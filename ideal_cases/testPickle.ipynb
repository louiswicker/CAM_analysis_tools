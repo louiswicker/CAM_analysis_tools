{
 "cells": [
  {
   "cell_type": "code",
   "execution_count": 1,
   "id": "ed35fd4b-23de-4e36-a78a-24131c2a064e",
   "metadata": {},
   "outputs": [],
   "source": [
    "%load_ext autoreload\n",
    "%autoreload 2\n",
    "\n",
    "from pathlib import Path\n",
    "import sys\n",
    "path = str(Path(Path('File.py').parent.absolute()).parent.absolute())\n",
    "sys.path.insert(0, path)\n",
    "\n",
    "import numpy as np\n",
    "import matplotlib as mlab\n",
    "import matplotlib.pyplot as plt\n",
    "import xarray as xr\n",
    "import os as os\n",
    "import glob\n",
    "import matplotlib.gridspec as gridspec\n",
    "from collections import namedtuple\n",
    "\n",
    "#from Plot_tools import *\n",
    "from File_tools import *\n",
    "\n",
    "import pickle\n",
    "\n",
    "_nthreads = 2"
   ]
  },
  {
   "cell_type": "code",
   "execution_count": 8,
   "id": "1c1bf3ba-4953-49de-a7b4-cbce09be9da4",
   "metadata": {},
   "outputs": [
    {
     "name": "stdout",
     "output_type": "stream",
     "text": [
      "WRF Max:  0.012684810.6\n",
      "SOL Max:  0.018207710.6\n"
     ]
    }
   ],
   "source": [
    "fnames = [\"c1500\"]\n",
    "\n",
    "#cm1  = pickle2Obj('cm1_3D_%s.pkl' % fnames[0], retObj=True)\n",
    "wrf  = pickle2Obj('wrf_3D_%s.pkl' % fnames[0], retObj=True)\n",
    "solo = pickle2Obj('solo_3D_%s.pkl' % fnames[0], retObj=True)\n",
    "\n",
    "# cm1_cond = cm1.qr[...]\n",
    "# print(\"CM1 Max:  %g10.6\" % cm1_cond.max())\n",
    "wrf_var = wrf.qr[...]\n",
    "print(\"WRF Max:  %g10.6\" % wrf_var.max())\n",
    "solo_var = solo.qr[...]\n",
    "print(\"SOL Max:  %g10.6\" % solo_var.max())\n"
   ]
  },
  {
   "cell_type": "code",
   "execution_count": null,
   "id": "018edd05-68c9-48ef-927a-a954ee51935e",
   "metadata": {},
   "outputs": [],
   "source": []
  }
 ],
 "metadata": {
  "kernelspec": {
   "display_name": "Python 3 (ipykernel)",
   "language": "python",
   "name": "python3"
  },
  "language_info": {
   "codemirror_mode": {
    "name": "ipython",
    "version": 3
   },
   "file_extension": ".py",
   "mimetype": "text/x-python",
   "name": "python",
   "nbconvert_exporter": "python",
   "pygments_lexer": "ipython3",
   "version": "3.9.13"
  }
 },
 "nbformat": 4,
 "nbformat_minor": 5
}
