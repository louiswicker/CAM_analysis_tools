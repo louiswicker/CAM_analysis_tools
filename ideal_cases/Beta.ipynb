{
 "cells": [
  {
   "cell_type": "code",
   "execution_count": 3,
   "id": "b39078bf-d127-4282-bb43-ff1960274892",
   "metadata": {},
   "outputs": [
    {
     "name": "stdout",
     "output_type": "stream",
     "text": [
      "The autoreload extension is already loaded. To reload it, use:\n",
      "  %reload_ext autoreload\n"
     ]
    }
   ],
   "source": [
    "%load_ext autoreload\n",
    "%autoreload 2\n",
    "\n",
    "from pathlib import Path\n",
    "import sys\n",
    "path = str(Path(Path('File.py').parent.absolute()).parent.absolute())\n",
    "sys.path.insert(0, path)\n",
    "\n",
    "path = str(Path(Path('thermo.py').parent.absolute()).parent.absolute())\n",
    "sys.path.insert(0, path)\n",
    "\n",
    "import numpy as np\n",
    "import matplotlib as mlab\n",
    "import matplotlib.pyplot as plt\n",
    "import scipy\n",
    "import xarray as xr\n",
    "import os as os\n",
    "import glob\n",
    "import matplotlib.gridspec as gridspec\n",
    "from tools.cbook import pickle2Obj, interp_z, compute_thetae\n",
    "from tools.FV3_tools import read_solo_fields\n",
    "from tools.CM1_tools import read_cm1_fields\n",
    "from tools.File_tools import read_forcing\n",
    "\n",
    "from pltbook import nice_clevels, nice_mxmnintvl, container, plot_contour_row\n",
    "\n",
    "import matplotlib.colors as mcolors\n",
    "\n",
    "cmap_data = [(1.0, 1.0, 1.0),\n",
    "         (0.3137255012989044, 0.8156862854957581, 0.8156862854957581),\n",
    "         (0.0, 1.0, 1.0),\n",
    "         (0.0, 0.8784313797950745, 0.501960813999176),\n",
    "         (0.0, 0.7529411911964417, 0.0),\n",
    "         (0.501960813999176, 0.8784313797950745, 0.0),\n",
    "         (1.0, 1.0, 0.0),\n",
    "         (1.0, 0.6274510025978088, 0.0),\n",
    "         (1.0, 0.0, 0.0),\n",
    "         (1.0, 0.125490203499794, 0.501960813999176),\n",
    "         (0.9411764740943909, 0.250980406999588, 1.0),\n",
    "         (0.501960813999176, 0.125490203499794, 1.0),\n",
    "         (0.250980406999588, 0.250980406999588, 1.0),\n",
    "         (0.125490203499794, 0.125490203499794, 0.501960813999176),\n",
    "         (0.125490203499794, 0.125490203499794, 0.125490203499794),\n",
    "         (0.501960813999176, 0.501960813999176, 0.501960813999176),\n",
    "         (0.8784313797950745, 0.8784313797950745, 0.8784313797950745),\n",
    "         (0.9333333373069763, 0.8313725590705872, 0.7372549176216125),\n",
    "         (0.8549019694328308, 0.6509804129600525, 0.47058823704719543),\n",
    "         (0.6274510025978088, 0.42352941632270813, 0.23529411852359772),\n",
    "         (0.4000000059604645, 0.20000000298023224, 0.0)]\n",
    "\n",
    "# draw filled contours.\n",
    "wclevs = [0, 1, 2.5, 5, 7.5, 10, 15, 20, 30, 40, 50, 60, 70]\n",
    "\n",
    "tclevs = list(-40.0 + 2*np.arange(41))\n",
    "\n",
    "teclevs = list(300. + 5*np.arange(70))\n",
    "\n",
    "bclevs = list(-0.4+ 0.02*np.arange(100))\n",
    "pclevs = list(-15.0 + np.arange(31))\n",
    "\n",
    "dclevs = list(-20.0 + np.arange(41))\n",
    "\n",
    "zlevels = 25.0 + 50.*np.arange(300)"
   ]
  },
  {
   "cell_type": "code",
   "execution_count": 24,
   "id": "5429fba8-c4ef-4339-9a12-06a10e2b8755",
   "metadata": {},
   "outputs": [
    {
     "name": "stdout",
     "output_type": "stream",
     "text": [
      "Reading:  cm1_3km_hdd125\n",
      "------------------------------------------------------------------------------------------------------------------------ \n",
      "\n",
      " Added default filename to path input:  /work/wicker/Odin_scr/cm1r20.3/run/bubble_3km_TESTA_hdd125_C2000_00/cm1out.nc\n",
      "------------------------------------------------------------------------------------------------------------------------ \n",
      "\n",
      " Reading:  /work/wicker/Odin_scr/cm1r20.3/run/bubble_3km_TESTA_hdd125_C2000_00/cm1out.nc \n",
      "\n",
      " Reading BETA from /work/wicker/CAM_analysis_tools/ideal_cases/beta_diagnostic/cm1_bubble_3km_TESTA_hdd125_C2000_00_beta_out.nc\n",
      " Completed reading in:  /work/wicker/Odin_scr/cm1r20.3/run/bubble_3km_TESTA_hdd125_C2000_00/cm1out.nc \n",
      "\n",
      "------------------------------------------------------------------------------------------------------------------------\n",
      "Reading:  solo1\n",
      "------------------------------------------------------------------------------------------------------------------------ \n",
      "\n",
      " Added default filename to path input:  /work/wicker/Odin_scr/solo/bubble_3km_TESTA_hdd125_C2000_00/atmos_hifreq.nc\n",
      "------------------------------------------------------------------------------------------------------------------------ \n",
      "\n",
      " Reading:  /work/wicker/Odin_scr/solo/bubble_3km_TESTA_hdd125_C2000_00/atmos_hifreq.nc \n",
      "\n",
      " Reading BETA from /work/wicker/CAM_analysis_tools/ideal_cases/beta_diagnostic/cm1_bubble_3km_TESTA_hdd125_C2000_00_beta_out.nc\n",
      " Completed reading in:  /work/wicker/Odin_scr/solo/bubble_3km_TESTA_hdd125_C2000_00/atmos_hifreq.nc \n",
      "\n",
      "------------------------------------------------------------------------------------------------------------------------\n"
     ]
    }
   ],
   "source": [
    "paths = {}\n",
    "paths['cm1_3km_hdd125'] = '/work/wicker/Odin_scr/cm1r20.3/run/bubble_3km_TESTA_hdd125_C2000_00'\n",
    "#paths['cm1_2km_hdd125'] = '/work/wicker/Odin_scr/cm1r20.3/run/bubble_3km_test_hdd125_C2000_00'\n",
    "#paths['cm1_1km_hdd125'] = '/work/wicker/Odin_scr/cm1r20.3/run/bubble_1km_dt01_hdd125_C2000_00'\n",
    "\n",
    "cm1 = []\n",
    "\n",
    "for key in paths:\n",
    "    print(\"Reading: \",key)\n",
    "    cm1.append( read_cm1_fields(paths[key], vars = ['den'], ret_beta='/work/wicker/CAM_analysis_tools/ideal_cases/beta_diagnostic/cm1_bubble_3km_TESTA_hdd125_C2000_00_beta_out.nc') )\n",
    "    paths = {}\n",
    "    \n",
    "# paths['solo1'] = '/work/wicker/Odin_scr/solo/bubble_3km_dt20_hdd125_C2000_00'\n",
    "# paths['solo2'] = '/work/wicker/Odin_scr/solo/bubble_3km_makenh_hdd125_C2000_00'\n",
    "# paths['solo3'] = '/work/wicker/Odin_scr/solo/bubble_1km_dt06_hdd125_C2000_00'\n",
    "paths['solo1'] = '/work/wicker/Odin_scr/solo/bubble_3km_TESTA_hdd125_C2000_00'\n",
    "\n",
    "solo = []\n",
    "for key in paths:\n",
    "    print(\"Reading: \",key)\n",
    "    solo.append( read_solo_fields(paths[key], vars = ['den'], ret_beta='/work/wicker/CAM_analysis_tools/ideal_cases/beta_diagnostic/cm1_bubble_3km_TESTA_hdd125_C2000_00_beta_out.nc'))"
   ]
  },
  {
   "cell_type": "code",
   "execution_count": null,
   "id": "49600af8-7e79-411b-8b91-40bb7b7b9fc6",
   "metadata": {},
   "outputs": [],
   "source": []
  }
 ],
 "metadata": {
  "kernelspec": {
   "display_name": "Python 3 (ipykernel)",
   "language": "python",
   "name": "python3"
  },
  "language_info": {
   "codemirror_mode": {
    "name": "ipython",
    "version": 3
   },
   "file_extension": ".py",
   "mimetype": "text/x-python",
   "name": "python",
   "nbconvert_exporter": "python",
   "pygments_lexer": "ipython3",
   "version": "3.10.13"
  }
 },
 "nbformat": 4,
 "nbformat_minor": 5
}
