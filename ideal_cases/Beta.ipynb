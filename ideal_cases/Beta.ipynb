{
 "cells": [
  {
   "cell_type": "code",
   "execution_count": 1,
   "id": "b39078bf-d127-4282-bb43-ff1960274892",
   "metadata": {},
   "outputs": [
    {
     "name": "stdout",
     "output_type": "stream",
     "text": [
      "The autoreload extension is already loaded. To reload it, use:\n",
      "  %reload_ext autoreload\n"
     ]
    }
   ],
   "source": [
    "%load_ext autoreload\n",
    "%autoreload 2\n",
    "\n",
    "from pathlib import Path\n",
    "import sys\n",
    "path = str(Path(Path('File.py').parent.absolute()).parent.absolute())\n",
    "sys.path.insert(0, path)\n",
    "\n",
    "path = str(Path(Path('thermo.py').parent.absolute()).parent.absolute())\n",
    "sys.path.insert(0, path)\n",
    "\n",
    "import numpy as np\n",
    "import matplotlib as mlab\n",
    "import matplotlib.pyplot as plt\n",
    "import scipy\n",
    "import xarray as xr\n",
    "import os as os\n",
    "import glob\n",
    "import matplotlib.gridspec as gridspec\n",
    "from tools.cbook import pickle2Obj, interp_z, compute_thetae\n",
    "import tools\n",
    "from tools.FV3_tools import read_solo_fields\n",
    "from tools.CM1_tools import read_cm1_fields\n",
    "\n",
    "from pltbook import nice_clevels, nice_mxmnintvl, container, plot_contour_row\n",
    "\n",
    "import matplotlib.colors as mcolors\n",
    "\n",
    "cmap_data = [(1.0, 1.0, 1.0),\n",
    "         (0.3137255012989044, 0.8156862854957581, 0.8156862854957581),\n",
    "         (0.0, 1.0, 1.0),\n",
    "         (0.0, 0.8784313797950745, 0.501960813999176),\n",
    "         (0.0, 0.7529411911964417, 0.0),\n",
    "         (0.501960813999176, 0.8784313797950745, 0.0),\n",
    "         (1.0, 1.0, 0.0),\n",
    "         (1.0, 0.6274510025978088, 0.0),\n",
    "         (1.0, 0.0, 0.0),\n",
    "         (1.0, 0.125490203499794, 0.501960813999176),\n",
    "         (0.9411764740943909, 0.250980406999588, 1.0),\n",
    "         (0.501960813999176, 0.125490203499794, 1.0),\n",
    "         (0.250980406999588, 0.250980406999588, 1.0),\n",
    "         (0.125490203499794, 0.125490203499794, 0.501960813999176),\n",
    "         (0.125490203499794, 0.125490203499794, 0.125490203499794),\n",
    "         (0.501960813999176, 0.501960813999176, 0.501960813999176),\n",
    "         (0.8784313797950745, 0.8784313797950745, 0.8784313797950745),\n",
    "         (0.9333333373069763, 0.8313725590705872, 0.7372549176216125),\n",
    "         (0.8549019694328308, 0.6509804129600525, 0.47058823704719543),\n",
    "         (0.6274510025978088, 0.42352941632270813, 0.23529411852359772),\n",
    "         (0.4000000059604645, 0.20000000298023224, 0.0)]\n",
    "\n",
    "_nthreads = 2\n",
    "\n",
    "# draw filled contours.\n",
    "wclevs = [0, 1, 2.5, 5, 7.5, 10, 15, 20, 30, 40, 50, 60, 70]\n",
    "\n",
    "tclevs = list(-40.0 + 2*np.arange(41))\n",
    "\n",
    "teclevs = list(300. + 5*np.arange(70))\n",
    "\n",
    "bclevs = list(-0.4+ 0.02*np.arange(100))\n",
    "pclevs = list(-15.0 + np.arange(31))\n",
    "\n",
    "dclevs = list(-20.0 + np.arange(41))\n",
    "\n",
    "zlevels = 25.0 + 50.*np.arange(300)"
   ]
  },
  {
   "cell_type": "code",
   "execution_count": 2,
   "id": "5429fba8-c4ef-4339-9a12-06a10e2b8755",
   "metadata": {},
   "outputs": [
    {
     "name": "stdout",
     "output_type": "stream",
     "text": [
      "Reading:  cm1_3km_hdd125\n",
      "------------------------------------------------------------------------------------------------------------------------ \n",
      "\n",
      " Added default filename to path input:  /work/wicker/Odin_scr/cm1r20.3/run/bubble_3km_TESTA_hdd125_C2000_00/cm1out.nc\n",
      "------------------------------------------------------------------------------------------------------------------------ \n",
      "\n",
      " Reading:  /work/wicker/Odin_scr/cm1r20.3/run/bubble_3km_TESTA_hdd125_C2000_00/cm1out.nc \n",
      "\n",
      " Completed reading in:  /work/wicker/Odin_scr/cm1r20.3/run/bubble_3km_TESTA_hdd125_C2000_00/cm1out.nc \n",
      "\n",
      "------------------------------------------------------------------------------------------------------------------------\n"
     ]
    }
   ],
   "source": [
    "paths = {}\n",
    "paths['cm1_3km_hdd125'] = '/work/wicker/Odin_scr/cm1r20.3/run/bubble_3km_TESTA_hdd125_C2000_00'\n",
    "#paths['cm1_2km_hdd125'] = '/work/wicker/Odin_scr/cm1r20.3/run/bubble_3km_test_hdd125_C2000_00'\n",
    "#paths['cm1_1km_hdd125'] = '/work/wicker/Odin_scr/cm1r20.3/run/bubble_1km_dt01_hdd125_C2000_00'\n",
    "\n",
    "cm1 = []\n",
    "\n",
    "for key in paths:\n",
    "    print(\"Reading: \",key)\n",
    "    cm1.append( read_cm1_fields(paths[key], vars = ['den'], file_pattern=None, ret_dbz=False, ret_ds=False) )"
   ]
  },
  {
   "cell_type": "code",
   "execution_count": 3,
   "id": "4c1d04eb-b952-4f60-b933-a410660a8769",
   "metadata": {},
   "outputs": [
    {
     "data": {
      "text/plain": [
       "60"
      ]
     },
     "execution_count": 3,
     "metadata": {},
     "output_type": "execute_result"
    }
   ],
   "source": [
    "cm1[0]['zc'].shape[1]\n"
   ]
  },
  {
   "cell_type": "code",
   "execution_count": 4,
   "id": "4454f50a-6813-4877-80f0-b19963cd2edd",
   "metadata": {},
   "outputs": [],
   "source": [
    "import netCDF4 as ncdf"
   ]
  },
  {
   "cell_type": "code",
   "execution_count": 51,
   "id": "31d2d9f4-7cc1-4f74-9996-094d193dfc83",
   "metadata": {},
   "outputs": [
    {
     "name": "stdout",
     "output_type": "stream",
     "text": [
      "<class 'netCDF4._netCDF4.Dataset'>\n",
      "root group (NETCDF4_CLASSIC data model, file format HDF5):\n",
      "    dimensions(sizes): \n",
      "    variables(dimensions): \n",
      "    groups: \n",
      "('nx', <class 'netCDF4._netCDF4.Dimension'>: name = 'nx', size = 64)\n",
      "('ny', <class 'netCDF4._netCDF4.Dimension'>: name = 'ny', size = 64)\n",
      "('nz', <class 'netCDF4._netCDF4.Dimension'>: name = 'nz', size = 60)\n",
      "('time', <class 'netCDF4._netCDF4.Dimension'> (unlimited): name = 'time', size = 0)\n",
      "<class 'netCDF4._netCDF4.Dataset'>\n",
      "root group (NETCDF4_CLASSIC data model, file format HDF5):\n",
      "    dimensions(sizes): nx(64), ny(64), nz(60), time(61)\n",
      "    variables(dimensions): float32 xh(nx), float32 yh(ny), float32 zh(time, nz, ny, nx), float32 time(time), float32 den(time, nz, ny, nx)\n",
      "    groups: \n"
     ]
    }
   ],
   "source": [
    "try: ncfile.close()  # just to be safe, make sure dataset is not already open.\n",
    "except: pass\n",
    "ncfile = ncdf.Dataset('test3D_data.nc',mode='w',format='NETCDF4_CLASSIC') \n",
    "print(ncfile)\n",
    "\n",
    "x_dim = ncfile.createDimension('nx', cm1[0]['xc'].size)     \n",
    "y_dim = ncfile.createDimension('ny', cm1[0]['yc'].size)   \n",
    "z_dim = ncfile.createDimension('nz', cm1[0]['zc'].shape[1]) \n",
    "t_dim = ncfile.createDimension('time', None)\n",
    "\n",
    "for dim in ncfile.dimensions.items():\n",
    "    print(dim)\n",
    "x = ncfile.createVariable('xh', np.float32, ('nx',))\n",
    "x.units = 'meters'\n",
    "\n",
    "y = ncfile.createVariable('yh', np.float32, ('ny',))\n",
    "y.units = 'meters'\n",
    "\n",
    "z = ncfile.createVariable('zh', np.float32, ('time','nz','ny','nx'))\n",
    "z.units = 'meters'\n",
    "\n",
    "t = ncfile.createVariable('time', np.float32, ('time',))\n",
    "t.units = 'sec'\n",
    "\n",
    "den = ncfile.createVariable('den', np.float32, ('time','nz','ny','nx'))\n",
    "den.units = 'kg/m^3'\n",
    "\n",
    "# write coordinates and data\n",
    "\n",
    "x[:] = cm1[0]['xc'][:]\n",
    "y[:] = cm1[0]['yc'][:]\n",
    "t[:] = cm1[0]['sec'][:]\n",
    "\n",
    "for n in np.arange(cm1[0]['den'].shape[0]):\n",
    "\n",
    "    den[n,:,:,:] = cm1[0]['den'][n,:,:,:]\n",
    "    z[n,:,:,:]   = cm1[0]['zc'][n,:,:,:]\n",
    "\n",
    "print(ncfile)\n",
    "ncfile.close()"
   ]
  },
  {
   "cell_type": "code",
   "execution_count": 33,
   "id": "d5938786-7f1c-47e7-ba96-a3dd67c1a4cf",
   "metadata": {},
   "outputs": [
    {
     "name": "stdout",
     "output_type": "stream",
     "text": [
      "<class 'netCDF4._netCDF4.Dataset'>\n",
      "root group (NETCDF4_CLASSIC data model, file format HDF5):\n",
      "    dimensions(sizes): nx(64), ny(64), nz(60), time(0)\n",
      "    variables(dimensions): float32 xh(nx), float32 yh(ny), float32 zh(nz), float32 time(time), float32 den(nz, ny, nx)\n",
      "    groups: \n"
     ]
    }
   ],
   "source": []
  },
  {
   "cell_type": "code",
   "execution_count": 56,
   "id": "54f60679-3f52-4a45-a95d-92428a6af51a",
   "metadata": {},
   "outputs": [
    {
     "name": "stdout",
     "output_type": "stream",
     "text": [
      "<class 'netCDF4._netCDF4.Dataset'>\n",
      "root group (NETCDF4_CLASSIC data model, file format HDF5):\n",
      "    dimensions(sizes): nx(64), ny(64), nz(60), time(61)\n",
      "    variables(dimensions): float32 xh(nx), float32 yh(ny), float32 zh(time, nz, ny, nx), float32 time(time), float32 den(time, nz, ny, nx)\n",
      "    groups: \n"
     ]
    }
   ],
   "source": [
    "try: ncfile.close()  # just to be safe, make sure dataset is not already open.\n",
    "except: pass\n",
    "ncfile = ncdf.Dataset('test3D_data.nc',mode='r',format='NETCDF4_CLASSIC') \n",
    "print(ncfile)"
   ]
  },
  {
   "cell_type": "code",
   "execution_count": 57,
   "id": "a8752bf1-51a3-4bdf-aff2-71dc62533326",
   "metadata": {},
   "outputs": [
    {
     "name": "stdout",
     "output_type": "stream",
     "text": [
      "[1.1602734 1.1602734 1.1602734 1.1602734 1.1602734 1.1602734 1.1602734\n",
      " 1.1602734 1.1602734 1.1602734 1.1602734 1.1602734 1.1602734 1.1602734\n",
      " 1.1602734 1.1602734 1.1602734 1.1602734 1.1602734 1.1602734 1.1602734\n",
      " 1.1602734 1.1602734 1.1602734 1.1602734 1.1602734 1.1602734 1.1602734\n",
      " 1.1602734 1.1602734 1.1602734 1.1602734 1.1602734 1.1602734 1.1602734\n",
      " 1.1602734 1.1602734 1.1602734 1.1602734 1.1602734 1.1602734 1.1602734\n",
      " 1.1602734 1.1602734 1.1602734 1.1602734 1.1602734 1.1602734 1.1602734\n",
      " 1.1602734 1.1602734 1.1602734 1.1602734 1.1602734 1.1602734 1.1602734\n",
      " 1.1602734 1.1602734 1.1602734 1.1602734 1.1602734 1.1602734 1.1602734\n",
      " 1.1602734]\n",
      "[  1.5000001   4.5         7.5000005  10.500001   13.500001   16.5\n",
      "  19.5        22.500002   25.500002   28.500002   31.500002   34.5\n",
      "  37.5        40.500004   43.500004   46.500004   49.500004   52.500004\n",
      "  55.500004   58.500004   61.500004   64.5        67.5        70.5\n",
      "  73.5        76.5        79.5        82.50001    85.50001    88.50001\n",
      "  91.50001    94.50001    97.50001   100.50001   103.50001   106.50001\n",
      " 109.50001   112.50001   115.50001   118.50001   121.50001   124.50001\n",
      " 127.50001   130.5       133.5       136.5       139.5       142.5\n",
      " 145.5       148.5       151.5       154.5       157.5       160.5\n",
      " 163.50002   166.50002   169.50002   172.50002   175.50002   178.50002\n",
      " 181.50002   184.50002   187.50002   190.50002  ]\n",
      "(61, 60, 64, 64)\n"
     ]
    }
   ],
   "source": [
    "den = ncfile.variables['den']\n",
    "print(den[0,0,0])\n",
    "print(ncfile.variables['xh'][:])\n",
    "print(ncfile.variables['zh'].shape)"
   ]
  },
  {
   "cell_type": "code",
   "execution_count": 58,
   "id": "e4464d49-711c-4842-a5b3-3461d7bd2e65",
   "metadata": {},
   "outputs": [],
   "source": [
    "ncfile.close()"
   ]
  },
  {
   "cell_type": "code",
   "execution_count": null,
   "id": "351d7146-5815-4225-9133-b86e203a7690",
   "metadata": {},
   "outputs": [],
   "source": []
  }
 ],
 "metadata": {
  "kernelspec": {
   "display_name": "Python 3 (ipykernel)",
   "language": "python",
   "name": "python3"
  },
  "language_info": {
   "codemirror_mode": {
    "name": "ipython",
    "version": 3
   },
   "file_extension": ".py",
   "mimetype": "text/x-python",
   "name": "python",
   "nbconvert_exporter": "python",
   "pygments_lexer": "ipython3",
   "version": "3.10.13"
  }
 },
 "nbformat": 4,
 "nbformat_minor": 5
}
