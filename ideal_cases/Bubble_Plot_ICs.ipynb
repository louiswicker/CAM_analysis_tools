{
 "cells": [
  {
   "cell_type": "code",
   "execution_count": 8,
   "id": "17803d51",
   "metadata": {},
   "outputs": [
    {
     "name": "stdout",
     "output_type": "stream",
     "text": [
      "The autoreload extension is already loaded. To reload it, use:\n",
      "  %reload_ext autoreload\n"
     ]
    }
   ],
   "source": [
    "%load_ext autoreload\n",
    "%autoreload 2\n",
    "\n",
    "from pathlib import Path\n",
    "import sys\n",
    "path = str(Path(Path('File.py').parent.absolute()).parent.absolute())\n",
    "sys.path.insert(0, path)\n",
    "\n",
    "path = str(Path(Path('thermo.py').parent.absolute()).parent.absolute())\n",
    "sys.path.insert(0, path)\n",
    "\n",
    "import numpy as np\n",
    "import matplotlib as mlab\n",
    "import matplotlib.pyplot as plt\n",
    "import scipy\n",
    "import xarray as xr\n",
    "import os as os\n",
    "import glob\n",
    "import matplotlib.gridspec as gridspec\n",
    "from tools.cbook import pickle2Obj\n",
    "import tools\n",
    "from tools.FV3_tools import read_solo_fields\n",
    "from tools.CM1_tools import read_cm1_fields\n",
    "\n",
    "from pltbook import nice_clevels, nice_mxmnintvl, container, plot_contour_row, find_max_index_ND\n",
    "\n",
    "import matplotlib.colors as mcolors\n",
    "\n",
    "cmap_data = [(1.0, 1.0, 1.0),\n",
    "         (0.3137255012989044, 0.8156862854957581, 0.8156862854957581),\n",
    "         (0.0, 1.0, 1.0),\n",
    "         (0.0, 0.8784313797950745, 0.501960813999176),\n",
    "         (0.0, 0.7529411911964417, 0.0),\n",
    "         (0.501960813999176, 0.8784313797950745, 0.0),\n",
    "         (1.0, 1.0, 0.0),\n",
    "         (1.0, 0.6274510025978088, 0.0),\n",
    "         (1.0, 0.0, 0.0),\n",
    "         (1.0, 0.125490203499794, 0.501960813999176),\n",
    "         (0.9411764740943909, 0.250980406999588, 1.0),\n",
    "         (0.501960813999176, 0.125490203499794, 1.0),\n",
    "         (0.250980406999588, 0.250980406999588, 1.0),\n",
    "         (0.125490203499794, 0.125490203499794, 0.501960813999176),\n",
    "         (0.125490203499794, 0.125490203499794, 0.125490203499794),\n",
    "         (0.501960813999176, 0.501960813999176, 0.501960813999176),\n",
    "         (0.8784313797950745, 0.8784313797950745, 0.8784313797950745),\n",
    "         (0.9333333373069763, 0.8313725590705872, 0.7372549176216125),\n",
    "         (0.8549019694328308, 0.6509804129600525, 0.47058823704719543),\n",
    "         (0.6274510025978088, 0.42352941632270813, 0.23529411852359772),\n",
    "         (0.4000000059604645, 0.20000000298023224, 0.0)]\n",
    "\n",
    "_nthreads = 2\n",
    "\n",
    "# draw filled contours.\n",
    "wclevs = [0, 1, 2.5, 5, 7.5, 10, 15, 20, 30, 40, 50, 60, 70]\n",
    "\n",
    "tclevs = list(-40.0 + 2*np.arange(41))\n",
    "\n",
    "pclevs = list(100*(-15.0 + np.arange(31)))\n",
    "\n",
    "dclevs = list(-20.0 + np.arange(41))\n",
    "\n",
    "zlevels = 10.0 + 100.*np.arange(150)\n",
    "\n",
    "# Paths\n",
    "paths = {}\n",
    "paths['cm1_squall']  = '/work/wicker/climate_runs/cm1r20.3/run/squall/3km/QV15/S06'\n",
    "paths['solo_squall'] = '/work/wicker/climate_runs/FV3_Solo/squall/ics/3km/QV13/S06'\n",
    "\n",
    "# paths['solo_bubble'] = '/work/wicker/climate_runs/FV3_Solo/bubble/1km/QV15'\n",
    "# paths['cm1_bubble']  = '/work/wicker/climate_runs/cm1r20.3/run/bubble/1km/QV15'\n"
   ]
  },
  {
   "cell_type": "code",
   "execution_count": 11,
   "id": "2c9b87fa-93bc-4322-aa71-d6f6daf15605",
   "metadata": {},
   "outputs": [
    {
     "name": "stdout",
     "output_type": "stream",
     "text": [
      "Reading:  cm1_squall\n",
      "------------------------------------------------------------------------------------------------------------------------\n",
      " Now reading... /work/wicker/climate_runs/cm1r20.3/run/squall/3km/QV15/S06/cm1out.nc\n",
      " Completed reading in:  /work/wicker/climate_runs/cm1r20.3/run/squall/3km/QV15/S06/cm1out.nc\n",
      "\n",
      " Interpolating fields to single column z-grid: /work/wicker/climate_runs/cm1r20.3/run/squall/3km/QV15/S06/cm1out.nc \n",
      "\n",
      " Finished interp fields to single column z-grid:  /work/wicker/climate_runs/cm1r20.3/run/squall/3km/QV15/S06 \n",
      "\n",
      "Reading:  solo_squall\n",
      "------------------------------------------------------------------------------------------------------------------------\n",
      " Now reading... /work/wicker/climate_runs/FV3_Solo/squall/ics/3km/QV13/S06/atmos_hifreq.nc\n",
      " Completed reading in:  /work/wicker/climate_runs/FV3_Solo/squall/ics/3km/QV13/S06/atmos_hifreq.nc\n",
      "\n",
      " Interpolating fields to single column z-grid: /work/wicker/climate_runs/FV3_Solo/squall/ics/3km/QV13/S06/atmos_hifreq.nc \n",
      "\n",
      " Finished interp fields to single column z-grid:  /work/wicker/climate_runs/FV3_Solo/squall/ics/3km/QV13/S06 \n",
      "\n"
     ]
    }
   ],
   "source": [
    "models = {}\n",
    "for key in paths:\n",
    "    print(\"Reading: \",key)\n",
    "    if key[0:3] == 'cm1':\n",
    "        models[key] = ( read_cm1_fields(paths[key], vars = ['pert_th'], zinterp=zlevels, file_pattern=None, ret_dbz=False, ret_ds=False) )\n",
    "    if key[0:4] == 'solo':\n",
    "        models[key] = ( read_solo_fields(paths[key], vars = ['theta_IC'], zinterp=zlevels, file_pattern=None, ret_dbz=False, ret_ds=False) )"
   ]
  },
  {
   "cell_type": "markdown",
   "id": "e2dc1980-815b-4871-be28-474ac66fedf6",
   "metadata": {
    "scrolled": true
   },
   "source": [
    "### CROSS Section of 3 KM Squall line init"
   ]
  },
  {
   "cell_type": "code",
   "execution_count": 13,
   "id": "ca9ba84e-382f-43f7-bc80-b9bc8a05f1ec",
   "metadata": {},
   "outputs": [
    {
     "name": "stdout",
     "output_type": "stream",
     "text": [
      "127\n",
      "2.9548688\n",
      "2.949284\n",
      "Solo TH MAX: 2.954868793487549\n",
      "CM1  TH MAX: 2.949284076690674\n"
     ]
    },
    {
     "ename": "TypeError",
     "evalue": "'int' object is not subscriptable",
     "output_type": "error",
     "traceback": [
      "\u001b[0;31m---------------------------------------------------------------------------\u001b[0m",
      "\u001b[0;31mTypeError\u001b[0m                                 Traceback (most recent call last)",
      "Cell \u001b[0;32mIn[13], line 34\u001b[0m\n\u001b[1;32m     32\u001b[0m fields\u001b[38;5;241m.\u001b[39mappend(container(cm1[\u001b[38;5;124m'\u001b[39m\u001b[38;5;124mpert_th\u001b[39m\u001b[38;5;124m'\u001b[39m][\u001b[38;5;241m0\u001b[39m,:,\u001b[38;5;241m96\u001b[39m:\u001b[38;5;241m160\u001b[39m,\u001b[38;5;241m23\u001b[39m], xc[\u001b[38;5;241m96\u001b[39m:\u001b[38;5;241m160\u001b[39m], zlevels\u001b[38;5;241m/\u001b[39m\u001b[38;5;241m1000.\u001b[39m))\n\u001b[1;32m     33\u001b[0m fields\u001b[38;5;241m.\u001b[39mappend(container(solo[\u001b[38;5;124m'\u001b[39m\u001b[38;5;124mtheta_IC\u001b[39m\u001b[38;5;124m'\u001b[39m][:,\u001b[38;5;241m96\u001b[39m:\u001b[38;5;241m160\u001b[39m,\u001b[38;5;241m23\u001b[39m], xc[\u001b[38;5;241m96\u001b[39m:\u001b[38;5;241m160\u001b[39m], zlevels\u001b[38;5;241m/\u001b[39m\u001b[38;5;241m1000.\u001b[39m))\n\u001b[0;32m---> 34\u001b[0m \u001b[43mplot_contour_row\u001b[49m\u001b[43m(\u001b[49m\u001b[43mfields\u001b[49m\u001b[43m,\u001b[49m\u001b[43m \u001b[49m\u001b[43mptitle\u001b[49m\u001b[38;5;241;43m=\u001b[39;49m\u001b[43m[\u001b[49m\u001b[38;5;124;43m'\u001b[39;49m\u001b[38;5;124;43mCM1\u001b[39;49m\u001b[38;5;124;43m'\u001b[39;49m\u001b[43m,\u001b[49m\u001b[43m \u001b[49m\u001b[38;5;124;43m'\u001b[39;49m\u001b[38;5;124;43mSOLO\u001b[39;49m\u001b[38;5;124;43m'\u001b[39;49m\u001b[43m]\u001b[49m\u001b[43m,\u001b[49m\u001b[43m \u001b[49m\u001b[43mtitle\u001b[49m\u001b[38;5;241;43m=\u001b[39;49m\u001b[38;5;124;43m'\u001b[39;49m\u001b[38;5;124;43mBUBBLE\u001b[39;49m\u001b[38;5;124;43m'\u001b[39;49m\u001b[43m,\u001b[49m\u001b[43m \u001b[49m\u001b[43mxlabel\u001b[49m\u001b[38;5;241;43m=\u001b[39;49m\u001b[38;5;124;43m'\u001b[39;49m\u001b[38;5;124;43mX (km)\u001b[39;49m\u001b[38;5;124;43m'\u001b[39;49m\u001b[43m,\u001b[49m\u001b[43m \u001b[49m\u001b[43mylabel\u001b[49m\u001b[38;5;241;43m=\u001b[39;49m\u001b[38;5;124;43m'\u001b[39;49m\u001b[38;5;124;43mZ (km)\u001b[39;49m\u001b[38;5;124;43m'\u001b[39;49m\u001b[43m,\u001b[49m\u001b[43m \u001b[49m\u001b[43mcmap\u001b[49m\u001b[38;5;241;43m=\u001b[39;49m\u001b[43mplt\u001b[49m\u001b[38;5;241;43m.\u001b[39;49m\u001b[43mcm\u001b[49m\u001b[38;5;241;43m.\u001b[39;49m\u001b[43mviridis_r\u001b[49m\u001b[43m,\u001b[49m\u001b[43m \u001b[49m\u001b[43mcint\u001b[49m\u001b[38;5;241;43m=\u001b[39;49m\u001b[38;5;241;43m0.25\u001b[39;49m\u001b[43m)\u001b[49m;\n\u001b[1;32m     36\u001b[0m plt\u001b[38;5;241m.\u001b[39msavefig(\u001b[38;5;124mf\u001b[39m\u001b[38;5;124m\"\u001b[39m\u001b[38;5;124mInitial_Condition_XZ_3km.png\u001b[39m\u001b[38;5;124m\"\u001b[39m)\n\u001b[1;32m     38\u001b[0m klevel \u001b[38;5;241m=\u001b[39m \u001b[38;5;241m10\u001b[39m\n",
      "File \u001b[0;32m~/PythonDefaults/pltbook.py:216\u001b[0m, in \u001b[0;36mplot_contour_row\u001b[0;34m(fields, plot_type, ptitle, var, ax_in, clevels, color_levels, cmap, xlim, ylim, refl_plot, **kwargs)\u001b[0m\n\u001b[1;32m    214\u001b[0m \u001b[38;5;28;01melse\u001b[39;00m:\n\u001b[1;32m    215\u001b[0m     cint_levels \u001b[38;5;241m=\u001b[39m clevels\n\u001b[0;32m--> 216\u001b[0m     cint        \u001b[38;5;241m=\u001b[39m \u001b[43mcint_levels\u001b[49m\u001b[43m[\u001b[49m\u001b[38;5;241;43m1\u001b[39;49m\u001b[43m]\u001b[49m \u001b[38;5;241m-\u001b[39m cint_levels[\u001b[38;5;241m0\u001b[39m]\n\u001b[1;32m    218\u001b[0m \u001b[38;5;28;01mif\u001b[39;00m debug \u001b[38;5;241m>\u001b[39m \u001b[38;5;241m10\u001b[39m:\n\u001b[1;32m    219\u001b[0m     \u001b[38;5;28mprint\u001b[39m(\u001b[38;5;124mf\u001b[39m\u001b[38;5;124m\"\u001b[39m\u001b[38;5;124mPLOT_ROW_CONTOUR:  \u001b[39m\u001b[38;5;132;01m{\u001b[39;00mcint_levels\u001b[38;5;132;01m}\u001b[39;00m\u001b[38;5;124m\"\u001b[39m)\n",
      "\u001b[0;31mTypeError\u001b[0m: 'int' object is not subscriptable"
     ]
    },
    {
     "data": {
      "image/png": "[encoded data removed]",
      "text/plain": [
       "<Figure size 1000x500 with 2 Axes>"
      ]
     },
     "metadata": {},
     "output_type": "display_data"
    }
   ],
   "source": [
    "solo = models['solo_squall']\n",
    "cm1  = models['cm1_squall']\n",
    "\n",
    "time1 = solo['min'][:]\n",
    "time2 = cm1['min'][:]\n",
    "xc    = cm1['xc']/1000.\n",
    "\n",
    "ny2 = (xc.shape[0]//2) - 1\n",
    "\n",
    "print(ny2)\n",
    "\n",
    "zsum = 100\n",
    "\n",
    "print(solo['theta_IC'].max())\n",
    "print(cm1['pert_th'][0].max())\n",
    "\n",
    "clevs = list(-3. + 0.25*np.arange(25))\n",
    "\n",
    "time1 = solo['min'][:]\n",
    "time2 = cm1['min'][:]\n",
    "xc    = cm1['xc']/1000.\n",
    "yc    = cm1['yc']/1000.\n",
    "\n",
    "ny2 = (xc.shape[0]//2) - 1\n",
    "\n",
    "klevel = 25\n",
    "\n",
    "print(f\"Solo TH MAX: {solo['theta_IC'].max()}\")\n",
    "print(f\"CM1  TH MAX: {cm1['pert_th'][0].max()}\")\n",
    "\n",
    "fields = []\n",
    "fields.append(container(cm1['pert_th'][0,:,96:160,23], xc[96:160], zlevels/1000.))\n",
    "fields.append(container(solo['theta_IC'][:,96:160,23], xc[96:160], zlevels/1000.))\n",
    "plot_contour_row(fields, ptitle=['CM1', 'SOLO'], title='BUBBLE', xlabel='X (km)', ylabel='Z (km)', cmap=plt.cm.viridis_r, cint=0.25);\n",
    "\n",
    "plt.savefig(f\"Initial_Condition_XZ_3km.png\")\n",
    "\n",
    "klevel = 10\n",
    "\n",
    "fields = []\n",
    "fields.append(container(cm1['pert_th'][0,klevel,96:160,0:64], xc[96:160], yc[0:64]))\n",
    "fields.append(container(solo['theta_IC'][klevel,96:160,0:64], xc[96:160], yc[0:64]))\n",
    "plot_contour_row(fields, ptitle=['CM1', 'SOLO'], title='BUBBLE', xlabel='X (km)', ylabel='Y (km)', cmap=plt.cm.viridis_r, cint=0.25);\n",
    "\n",
    "plt.savefig(f\"Initial_Condition_XY_K10_3km.png\")\n"
   ]
  },
  {
   "cell_type": "markdown",
   "id": "1f760e50-9817-4b3e-b43a-a4d566ea1532",
   "metadata": {},
   "source": [
    "#### CROSS Section of 1 KM Squall line init"
   ]
  },
  {
   "cell_type": "code",
   "execution_count": 158,
   "id": "6fa8cd87-cc58-44c0-8bfb-32f77a37d693",
   "metadata": {},
   "outputs": [
    {
     "name": "stdout",
     "output_type": "stream",
     "text": [
      "------------------------------------------------------------------------------------------------------------------------ \n",
      "\n",
      " Added default filename to path input:  /work/wicker/climate_runs/cm1r20.3/run/squall/1km/QV16/S06/cm1out.nc\n",
      "------------------------------------------------------------------------------------------------------------------------ \n",
      "\n",
      " Reading:  /work/wicker/climate_runs/cm1r20.3/run/squall/1km/QV16/S06/cm1out.nc \n",
      "\n",
      " Completed reading in:  /work/wicker/climate_runs/cm1r20.3/run/squall/1km/QV16/S06/cm1out.nc \n",
      "\n",
      "------------------------------------------------------------------------------------------------------------------------\n",
      " Interpolating fields to single column z-grid:  /work/wicker/climate_runs/cm1r20.3/run/squall/1km/QV16/S06/cm1out.nc \n",
      "\n",
      " Finished interp fields to single column z-grid:  /work/wicker/climate_runs/cm1r20.3/run/squall/1km/QV16/S06/cm1out.nc \n",
      "\n",
      "------------------------------------------------------------------------------------------------------------------------\n",
      "------------------------------------------------------------------------------------------------------------------------ \n",
      "\n",
      " Added default filename to path input: /work/wicker/climate_runs/FV3_Solo/squall/euler/1km/QV16/S06/atmos_hifreq.nc\n",
      "------------------------------------------------------------------------------------------------------------------------ \n",
      "\n",
      " Reading:  /work/wicker/climate_runs/FV3_Solo/squall/euler/1km/QV16/S06 \n",
      "\n",
      " Completed reading in:  /work/wicker/climate_runs/FV3_Solo/squall/euler/1km/QV16/S06 \n",
      "\n",
      "------------------------------------------------------------------------------------------------------------------------\n",
      " Interpolating fields to single column z-grid:  /work/wicker/climate_runs/FV3_Solo/squall/euler/1km/QV16/S06 \n",
      "\n",
      " Finished interp fields to single column z-grid:  /work/wicker/climate_runs/FV3_Solo/squall/euler/1km/QV16/S06 \n",
      "\n",
      "------------------------------------------------------------------------------------------------------------------------\n"
     ]
    }
   ],
   "source": [
    "cm1   = '/work/wicker/climate_runs/cm1r20.3/run/squall/1km/QV16/S06'\n",
    "solo  = '/work/wicker/climate_runs/FV3_Solo/squall/euler/1km/QV16/S06'\n",
    "\n",
    "models['cm1']  = ( read_cm1_fields(cm1,  vars = ['pert_th'], zinterp=zlevels, file_pattern=None, ret_dbz=False, ret_ds=False) )\n",
    "models['solo'] = ( read_solo_fields(solo, vars = ['theta_IC'], zinterp=zlevels, file_pattern=None, ret_dbz=False, ret_ds=False) )\n"
   ]
  },
  {
   "cell_type": "code",
   "execution_count": 1,
   "id": "ca019ed2-5975-4d0f-a194-2bac7cd786a8",
   "metadata": {},
   "outputs": [
    {
     "ename": "NameError",
     "evalue": "name 'models' is not defined",
     "output_type": "error",
     "traceback": [
      "\u001b[0;31m---------------------------------------------------------------------------\u001b[0m",
      "\u001b[0;31mNameError\u001b[0m                                 Traceback (most recent call last)",
      "Cell \u001b[0;32mIn[1], line 1\u001b[0m\n\u001b[0;32m----> 1\u001b[0m solo \u001b[38;5;241m=\u001b[39m \u001b[43mmodels\u001b[49m[\u001b[38;5;124m'\u001b[39m\u001b[38;5;124msolo\u001b[39m\u001b[38;5;124m'\u001b[39m]\n\u001b[1;32m      2\u001b[0m cm1  \u001b[38;5;241m=\u001b[39m models[\u001b[38;5;124m'\u001b[39m\u001b[38;5;124mcm1\u001b[39m\u001b[38;5;124m'\u001b[39m]\n\u001b[1;32m      4\u001b[0m time1 \u001b[38;5;241m=\u001b[39m solo[\u001b[38;5;124m'\u001b[39m\u001b[38;5;124mmin\u001b[39m\u001b[38;5;124m'\u001b[39m][:]\n",
      "\u001b[0;31mNameError\u001b[0m: name 'models' is not defined"
     ]
    }
   ],
   "source": [
    "solo = models['solo']\n",
    "cm1  = models['cm1']\n",
    "\n",
    "time1 = solo['min'][:]\n",
    "time2 = cm1['min'][:]\n",
    "xc    = cm1['xc']/1000.\n",
    "\n",
    "ny2 = (xc.shape[0]//2) - 1\n",
    "\n",
    "print(ny2)\n",
    "\n",
    "zsum = 100\n",
    "\n",
    "print(solo['theta_IC'].max())\n",
    "print(cm1['pert_th'][0].max())\n",
    "\n",
    "clevs = list(-3. + 0.25*np.arange(25))\n",
    "\n",
    "time1 = solo['min'][:]\n",
    "time2 = cm1['min'][:]\n",
    "xc    = cm1['xc']/1000.\n",
    "yc    = cm1['yc']/1000.\n",
    "\n",
    "ny2 = (xc.shape[0]//2) - 1\n",
    "\n",
    "klevel = 25\n",
    "\n",
    "print(f\"Solo TH MAX: {solo['theta_IC'].max()}\")\n",
    "print(f\"CM1  TH MAX: {cm1['pert_th'][0].max()}\")\n",
    "\n",
    "fields = []\n",
    "fields.append(container(cm1['pert_th'][0,:,288:480,71], xc[288:480], zlevels/1000.))\n",
    "fields.append(container(solo['theta_IC'][:,288:480,71], xc[288:480], zlevels/1000.))\n",
    "plot_contour_row(fields, ptitle=['CM1', 'SOLO'], title='BUBBLE', xlabel='X (km)', ylabel='Z (km)', cmap=plt.cm.viridis_r, cint=0.25);\n",
    "\n",
    "plt.savefig(f\"Initial_Condition_XZ_1km.png\")\n",
    "\n",
    "klevel = 12\n",
    "\n",
    "fields = []\n",
    "fields.append(container(cm1['pert_th'][0,klevel,288:480,0:192], xc[288:480], yc[0:192]))\n",
    "fields.append(container(solo['theta_IC'][klevel,288:480,0:192], xc[288:480], yc[0:192]))\n",
    "plot_contour_row(fields, ptitle=['CM1', 'SOLO'], title='BUBBLE', xlabel='X (km)', ylabel='Y (km)', cmap=plt.cm.viridis_r, cint=0.25);\n",
    "\n",
    "plt.savefig(f\"Initial_Condition_XY_K12_1km.png\")"
   ]
  },
  {
   "cell_type": "code",
   "execution_count": null,
   "id": "9aface6b-d26c-469d-b3e2-f68dd8f255fd",
   "metadata": {},
   "outputs": [],
   "source": []
  }
 ],
 "metadata": {
  "kernelspec": {
   "display_name": "Python 3 (ipykernel)",
   "language": "python",
   "name": "python3"
  },
  "language_info": {
   "codemirror_mode": {
    "name": "ipython",
    "version": 3
   },
   "file_extension": ".py",
   "mimetype": "text/x-python",
   "name": "python",
   "nbconvert_exporter": "python",
   "pygments_lexer": "ipython3",
   "version": "3.10.13"
  }
 },
 "nbformat": 4,
 "nbformat_minor": 5
}
