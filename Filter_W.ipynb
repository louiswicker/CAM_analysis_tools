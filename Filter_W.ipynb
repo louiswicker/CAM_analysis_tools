{
 "cells": [
  {
   "cell_type": "code",
   "execution_count": 1,
   "id": "17803d51",
   "metadata": {},
   "outputs": [],
   "source": [
    "%load_ext autoreload\n",
    "%autoreload 2\n",
    "\n",
    "import numpy as np\n",
    "import matplotlib as mlab\n",
    "import matplotlib.pyplot as plt\n",
    "import xarray as xr\n",
    "import os as os\n",
    "import matplotlib.gridspec as gridspec\n",
    "\n",
    "import glob\n",
    "from pathlib import Path\n",
    "\n",
    "from filter.RaymondFilters import RaymondFilter\n",
    "\n",
    "import cartopy.crs as ccrs\n",
    "import cartopy.feature as cfeature\n",
    "\n",
    "from plot_tools import *\n",
    "\n",
    "# Local import \n",
    "\n",
    "from spectra.py_spectra import *\n",
    "\n",
    "# High Pass values for various values of dx - because of high pass, we want the lowpass filter cutoff to have\n",
    "# a large (R~0.9) value\n",
    "\n",
    "npass = 6\n",
    "\n",
    "dx    = 8\n",
    "\n",
    "klevel= [25]\n",
    "\n",
    "filtered_W_name = \"W_%2.2i\" % dx\n",
    "\n",
    "# Helper functions......\n",
    "\n",
    "def add_fhour(ds):\n",
    "    \n",
    "    filename = ds.encoding[\"source\"].split(\"_\")\n",
    "    \n",
    "    init_time = int(filename[-2])\n",
    "    fhour     = int(filename[-1][-5:-3])\n",
    "        \n",
    "    ds.coords['fhour'] = fhour\n",
    "    ds.coords['init_time'] = init_time\n",
    "    \n",
    "    return ds\n",
    "    \n",
    "\n",
    "def read_mfdataset_list(data_dir, pattern):\n",
    "    \"\"\"\n",
    "    Use xarray.open_mfdataset to read multiple netcdf files from a list.\n",
    "    \"\"\"\n",
    "    filelist = os.path.join(data_dir,pattern)\n",
    "    return xr.open_mfdataset(filelist, preprocess=add_fhour, combine='nested', concat_dim=['fhour'],parallel=True)\n",
    "\n",
    "def save_mfdataset_list(ds, dir, gridType=None):\n",
    "    \"\"\"\n",
    "    Use xarray.save_mfdataset to save multiple netcdf files from a list, using the original file strings as a pattern\n",
    "    \"\"\"\n",
    "\n",
    "    # Use new pathlib for Python > 3.5\n",
    "    Path(dir).mkdir(parents=True, exist_ok=True)\n",
    "\n",
    "    for n, hour in enumerate(ds.fhour):\n",
    "        fcstHour  = ds.isel(fhour=n).fhour.values\n",
    "        fcstStart = ds.isel(fhour=n).fcstStart\n",
    "        date      = ds.isel(fhour=n).date      \n",
    "        \n",
    "        if gridType == None:\n",
    "            gridType = ds.isel(fhour=n).attrs['gridType']\n",
    "            \n",
    "        outfilename = os.path.join(dir, '%s_%08d%02d_F%02d.nc' % (gridType, date, fcstStart, fcstHour))\n",
    "        \n",
    "        ds.isel(fhour=n).to_netcdf(outfilename, mode='w')  \n",
    "        print(f'Successfully wrote new data to file:: {outfilename}','\\n')\n",
    "    \n",
    "    return\n"
   ]
  },
  {
   "cell_type": "code",
   "execution_count": 2,
   "id": "e3ceb360",
   "metadata": {
    "tags": []
   },
   "outputs": [],
   "source": [
    "# Open data sets\n",
    "\n",
    "def filter_ds(dir, output_dir, suffix, dx = 10, npass = 6, writeout=False):\n",
    "    \n",
    "    new_dir = \"%s_%s\" % (output_dir, suffix)\n",
    "    \n",
    "    ds  = read_mfdataset_list(dir , \"region_*.nc\")\n",
    "\n",
    "    # Set up cartopy stuff here, so the plot routine is already set to use it.\n",
    "\n",
    "    fig, axes = init_cartopy_plot(ncols=2, nrows=1, figsize=(20,10))\n",
    "\n",
    "    # Plot the initial data\n",
    "\n",
    "    cb_info = plot_w_from_xarray(ds, klevel=klevel, fhour=4, title='UNFILTERED', ax = axes[0])\n",
    "\n",
    "    # Convert to numpy arrays, fill in zeros\n",
    "\n",
    "    w = np.nan_to_num(ds.W.values).astype('float64')\n",
    "\n",
    "    nhour, nz, ny, nx = w.shape\n",
    "\n",
    "    w = w.reshape(nhour*nz, ny, nx)\n",
    "\n",
    "    w_filtered = RaymondFilter(w, dx, order=6, npass = npass, highpass=True)\n",
    "\n",
    "    ds['W'] = xr.DataArray(w_filtered.reshape(nhour,nz,ny,nx), dims = ['fhour','nz','ny','nx'])\n",
    "\n",
    "    # Plot the Filtered data\n",
    "\n",
    "    cb_info = plot_w_from_xarray(ds, klevel=klevel, fhour=4, title='FILTERED', ax = axes[1])\n",
    "\n",
    "    if writeout:\n",
    "        save_mfdataset_list(ds, new_dir, gridType='filtered')\n",
    "    \n",
    "    return"
   ]
  },
  {
   "cell_type": "code",
   "execution_count": null,
   "id": "a654f2d1-78a3-4c0c-a669-5ef478439a94",
   "metadata": {},
   "outputs": [
    {
     "name": "stdout",
     "output_type": "stream",
     "text": [
      "\n",
      "====> Begin processing runs\n",
      "\n",
      "-------> Parameter Filter SCALE: 8 \n",
      "\n",
      "-------> Parameter        NPASS: 6 \n",
      "\n",
      "-------> Parameter FILTERED FILE DIRECTORY: W_08 \n",
      "\n",
      "\n",
      "----> Processing run: hrrr for day:  2021052612 \n",
      "\n",
      "\n",
      "Plot Lat Min: 31.7  Lat Max:  44.3  \n",
      "\n",
      "Plot Lon Min: -107.5  Lon Max:  -92.2\n",
      "\n"
     ]
    },
    {
     "name": "stderr",
     "output_type": "stream",
     "text": [
      "/home/louis.wicker/miniconda3/envs/main/lib/python3.9/site-packages/cartopy/mpl/geoaxes.py:1597: UserWarning: The input coordinates to pcolormesh are interpreted as cell centers, but are not monotonically increasing or decreasing. This may lead to incorrectly calculated cell edges, in which case, please supply explicit cell edges to pcolormesh.\n",
      "  X, Y, C, shading = self._pcolorargs('pcolormesh', *args,\n"
     ]
    },
    {
     "name": "stdout",
     "output_type": "stream",
     "text": [
      "RaymondFilter6F:  Input array is 3D, 2D filtering implemented on outer two dimensions\n",
      "\n",
      "RaymondFilter6F:  NPASS:  6 \n",
      "\n",
      "NPass Loop for 3D array took 24.3098 seconds\n",
      "\n",
      "\n",
      "Plot Lat Min: 31.7  Lat Max:  44.3  \n",
      "\n",
      "Plot Lon Min: -107.5  Lon Max:  -92.2\n",
      "\n"
     ]
    },
    {
     "name": "stderr",
     "output_type": "stream",
     "text": [
      "/home/louis.wicker/miniconda3/envs/main/lib/python3.9/site-packages/cartopy/mpl/geoaxes.py:1597: UserWarning: The input coordinates to pcolormesh are interpreted as cell centers, but are not monotonically increasing or decreasing. This may lead to incorrectly calculated cell edges, in which case, please supply explicit cell edges to pcolormesh.\n",
      "  X, Y, C, shading = self._pcolorargs('pcolormesh', *args,\n"
     ]
    },
    {
     "name": "stdout",
     "output_type": "stream",
     "text": [
      "Successfully wrote new data to file:: /work/wicker/CAM_case_studies/2021052612/hrrr_W_08/filtered_202105261200_F09.nc \n",
      "\n",
      "Successfully wrote new data to file:: /work/wicker/CAM_case_studies/2021052612/hrrr_W_08/filtered_202105261200_F10.nc \n",
      "\n",
      "Successfully wrote new data to file:: /work/wicker/CAM_case_studies/2021052612/hrrr_W_08/filtered_202105261200_F11.nc \n",
      "\n",
      "Successfully wrote new data to file:: /work/wicker/CAM_case_studies/2021052612/hrrr_W_08/filtered_202105261200_F12.nc \n",
      "\n",
      "Successfully wrote new data to file:: /work/wicker/CAM_case_studies/2021052612/hrrr_W_08/filtered_202105261200_F13.nc \n",
      "\n",
      "Successfully wrote new data to file:: /work/wicker/CAM_case_studies/2021052612/hrrr_W_08/filtered_202105261200_F14.nc \n",
      "\n",
      "\n",
      "----> Processing run: ctrl for day:  2021052612 \n",
      "\n",
      "\n",
      "Plot Lat Min: 31.7  Lat Max:  44.3  \n",
      "\n",
      "Plot Lon Min: -107.5  Lon Max:  -92.2\n",
      "\n"
     ]
    },
    {
     "name": "stderr",
     "output_type": "stream",
     "text": [
      "/home/louis.wicker/miniconda3/envs/main/lib/python3.9/site-packages/cartopy/mpl/geoaxes.py:1597: UserWarning: The input coordinates to pcolormesh are interpreted as cell centers, but are not monotonically increasing or decreasing. This may lead to incorrectly calculated cell edges, in which case, please supply explicit cell edges to pcolormesh.\n",
      "  X, Y, C, shading = self._pcolorargs('pcolormesh', *args,\n"
     ]
    },
    {
     "name": "stdout",
     "output_type": "stream",
     "text": [
      "RaymondFilter6F:  Input array is 3D, 2D filtering implemented on outer two dimensions\n",
      "\n",
      "RaymondFilter6F:  NPASS:  6 \n",
      "\n"
     ]
    }
   ],
   "source": [
    "# Input data sets....\n",
    "\n",
    "from input_default import input_single as input_spec\n",
    "\n",
    "input_dir  = input_spec[\"input_dir\"]\n",
    "output_dir = input_spec[\"output_dir\"]\n",
    "\n",
    "filtered_filename = input_spec[\"filtered_filename\"]\n",
    "filter_dx         = input_spec[\"filter_dx\"]\n",
    "filter_npass      = input_spec[\"filter_npass\"]\n",
    "\n",
    "if len(filtered_filename) == 0:\n",
    "    filtered_filename = \"W_%2.2i\" % filter_dx\n",
    "    \n",
    "#------------------------------------------------------------------------------------\n",
    "# cut and past from below here\n",
    "#\n",
    "\n",
    "print(\"\\n====> Begin processing runs\\n\")\n",
    "\n",
    "print(\"-------> Parameter Filter SCALE: %d \\n\" % filter_dx)\n",
    "print(\"-------> Parameter        NPASS: %d \\n\" % filter_npass)\n",
    "print(\"-------> Parameter FILTERED FILE DIRECTORY: %s \\n\" % filtered_filename)\n",
    "\n",
    "for day in input_spec[\"cases\"]:\n",
    "    for run in input_spec[\"cases\"][day]:\n",
    "        \n",
    "        print(\"\\n----> Processing run: %s for day:  %s \\n\" % (run,day))\n",
    "        run_dir = str(os.path.join(input_dir, day, run))\n",
    "        out_dir = str(os.path.join(output_dir, day, run))\n",
    "        filter_ds(run_dir, out_dir, filtered_filename, dx=filter_dx, npass=filter_npass, writeout=True)\n",
    "        \n",
    "print(\"\\n====> Ended processing runs\\n\")\n"
   ]
  },
  {
   "cell_type": "code",
   "execution_count": 140,
   "id": "6f82e7a1-ed20-4e0b-a353-5e042c83495c",
   "metadata": {},
   "outputs": [],
   "source": [
    "import json\n",
    "\n",
    "with open(\"sample.json\", \"w\") as outfile:\n",
    "    json.dump(input_spec, outfile)\n",
    "    \n",
    "import yaml\n",
    "with open(\"sample.yaml\", \"w\") as outfile:\n",
    "    yaml.dump(input_spec, outfile)"
   ]
  },
  {
   "cell_type": "code",
   "execution_count": 141,
   "id": "8fd7c043-44a9-4670-ab44-9466996920fb",
   "metadata": {},
   "outputs": [
    {
     "name": "stdout",
     "output_type": "stream",
     "text": [
      "{'cases': {'2019071918': ['hrrr', 'ctrl', 'nord3'], '2020081006': ['hrrr', 'ctrl', 'nord3']}, 'input_dir': '/Users/Louis.Wicker/CAM_Case_Studies', 'output_dir': '/Users/Louis.Wicker/CAM_Case_Studies'}\n"
     ]
    }
   ],
   "source": [
    "with open(\"sample.yaml\", \"r\") as outfile:\n",
    "    d = yaml.load(outfile, Loader=yaml.FullLoader)\n",
    "    \n",
    "print(d)"
   ]
  },
  {
   "cell_type": "code",
   "execution_count": 134,
   "id": "b8ac4b26-0fe7-4c2f-80f1-6b48a428c127",
   "metadata": {},
   "outputs": [
    {
     "data": {
      "text/plain": [
       "\u001b[0;31mSignature:\u001b[0m \u001b[0myaml\u001b[0m\u001b[0;34m.\u001b[0m\u001b[0mload\u001b[0m\u001b[0;34m(\u001b[0m\u001b[0mstream\u001b[0m\u001b[0;34m,\u001b[0m \u001b[0mLoader\u001b[0m\u001b[0;34m)\u001b[0m\u001b[0;34m\u001b[0m\u001b[0;34m\u001b[0m\u001b[0m\n",
       "\u001b[0;31mDocstring:\u001b[0m\n",
       "Parse the first YAML document in a stream\n",
       "and produce the corresponding Python object.\n",
       "\u001b[0;31mFile:\u001b[0m      ~/miniconda3/envs/mypip/lib/python3.9/site-packages/yaml/__init__.py\n",
       "\u001b[0;31mType:\u001b[0m      function\n"
      ]
     },
     "metadata": {},
     "output_type": "display_data"
    }
   ],
   "source": [
    "yaml.load?"
   ]
  },
  {
   "cell_type": "code",
   "execution_count": 142,
   "id": "32eeceb7-b4cf-40e2-8790-fe591c2f1d10",
   "metadata": {},
   "outputs": [
    {
     "name": "stdout",
     "output_type": "stream",
     "text": [
      "0\n"
     ]
    }
   ],
   "source": [
    "f = \"\"\n",
    "print(len(f))"
   ]
  },
  {
   "cell_type": "code",
   "execution_count": null,
   "id": "1e4d82cc-c8f1-469f-be44-6962d099684a",
   "metadata": {},
   "outputs": [],
   "source": []
  }
 ],
 "metadata": {
  "kernelspec": {
   "display_name": "Python 3",
   "language": "python",
   "name": "python3"
  },
  "language_info": {
   "codemirror_mode": {
    "name": "ipython",
    "version": 3
   },
   "file_extension": ".py",
   "mimetype": "text/x-python",
   "name": "python",
   "nbconvert_exporter": "python",
   "pygments_lexer": "ipython3",
   "version": "3.9.5"
  }
 },
 "nbformat": 4,
 "nbformat_minor": 5
}
