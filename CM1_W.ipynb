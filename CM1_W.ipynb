{
 "cells": [
  {
   "cell_type": "code",
   "execution_count": 1,
   "id": "17803d51",
   "metadata": {},
   "outputs": [],
   "source": [
    "%load_ext autoreload\n",
    "%autoreload 2\n",
    "\n",
    "import numpy as np\n",
    "import matplotlib as mlab\n",
    "import matplotlib.pyplot as plt\n",
    "import xarray as xr\n",
    "import os as os\n",
    "import matplotlib.gridspec as gridspec\n",
    "\n",
    "import cartopy.crs as ccrs\n",
    "import cartopy.feature as cfeature\n",
    "from Plot_tools import *\n",
    "\n",
    "from scipy.ndimage import label, generate_binary_structure, binary_dilation\n",
    "\n",
    "\n",
    "# Helper functions......    \n",
    "\n",
    "def open_mfdataset_list(data_dir, pattern):\n",
    "    \"\"\"\n",
    "    Use xarray.open_mfdataset to read multiple netcdf files from a list.\n",
    "    \"\"\"\n",
    "        \n",
    "    def add_fhour(ds):\n",
    "        filename = ds.encoding[\"source\"].split(\".nc\")\n",
    "           \n",
    "        init_time = 0\n",
    "        fhour     = int(filename[0][-2:])\n",
    "                \n",
    "        ds.coords['fhour']     = fhour\n",
    "        ds.coords['init_time'] = init_time\n",
    "\n",
    "    filelist = os.path.join(data_dir,pattern)\n",
    " #   return xr.open_mfdataset(filelist, preprocess=add_fhour, combine='nested', concat_dim=['fhour'],parallel=True)\n",
    "\n",
    "    return xr.open_mfdataset(filelist,parallel=True)\n",
    "\n",
    "\n"
   ]
  },
  {
   "cell_type": "code",
   "execution_count": 58,
   "id": "83d1dca9-7da3-4f58-b33c-f0a6dc0fdd7d",
   "metadata": {},
   "outputs": [],
   "source": [
    "def get_cm1_profiles(run_dir, w_thresh = 5.0, cref_thresh = 45., min_pix=5):\n",
    "    \n",
    "    ds = open_mfdataset_list(run_dir,  \"cm1out_0000*.nc\")\n",
    "    \n",
    "    cref = (ds.dbz.values).max(axis=1)\n",
    "\n",
    "    mask_cref = np.where(cref >= cref_thresh, True, False)\n",
    "\n",
    "    mask_p = np.where(ds.prs <= 70000., True, False)\n",
    "\n",
    "    mask_w = np.where(ds.winterp > w_thresh, True, False)\n",
    "\n",
    "    mask_w_p = mask_p & mask_w\n",
    "\n",
    "    mask_w_p_2d = np.any(mask_w_p, axis=1)\n",
    "    \n",
    "    f_mask = np.array(np.where(mask_w_p_2d, 1, 0), dtype=np.int8)\n",
    "    \n",
    "    winterp = ds.winterp.values\n",
    "\n",
    "    # this code looks for a 3x3 connected region of True (1) values.\n",
    "    \n",
    "    connectivity = np.ones((3,) * 2)  # 3x3 matric of ones\n",
    "\n",
    "    wlist = [] \n",
    "    total_obj = 0\n",
    "    \n",
    "    for n in np.arange(ds.winterp.shape[0]): # loop over number of time steps.\n",
    "        \n",
    "        labeled_array = label(f_mask[n], connectivity)[0]        # returns a 2D array of labels for updrafts)\n",
    "    \n",
    "        num_obj = np.unique(labeled_array)                       # find the number of unique objects (background will be one obj)\n",
    "        \n",
    "        total_obj += (num_obj.shape[0]-1)\n",
    "        \n",
    "        if( num_obj.shape[0] > 1 ):                              # if there is more than the background object, process array.\n",
    "\n",
    "            for l in num_obj[1:]:                                # this is just a list of 1,2,3,4.....23,24,25....\n",
    "                npix = np.sum(labeled_array == l+1)              # this is a size check - number of pixels assocated with a label\n",
    "                if npix >= min_pix:\n",
    "                    jloc, iloc = np.where(labeled_array == l+1)  # extract out the locations of the updrafts \n",
    "                    if len(iloc) > 0:\n",
    "                        data = winterp[n,:,jloc,iloc]  # average profiles for that object.\n",
    "                        wlist.append(data.transpose())                  \n",
    "    \n",
    "    wprofile = np.hstack(wlist)\n",
    "\n",
    "    print(\"Directory:  %s  Number of updraft profiles:  %d\" % (os.path.basename(run_dir), wprofile.shape[1]))\n",
    "    print(\"Number of labeled objects:  %d\" % total_obj)\n",
    "\n",
    "    zc = ds.zh.values\n",
    "    \n",
    "    ds.close()\n",
    "    \n",
    "    return wprofile, zc"
   ]
  },
  {
   "cell_type": "code",
   "execution_count": 59,
   "id": "272eb4a5-c021-4f3c-99d2-e2ab746dae5c",
   "metadata": {},
   "outputs": [],
   "source": [
    "def get_fv3_profiles(run_dir, w_thresh = 5.0, cref_thresh = 45., min_pix=5):\n",
    "    \n",
    "    def open_mfdataset_list(data_dir, pattern):\n",
    "        \"\"\"\n",
    "        Use xarray.open_mfdataset to read multiple netcdf files from a list.\n",
    "        \"\"\"\n",
    "        filelist = os.path.join(data_dir,pattern)\n",
    "        return xr.open_mfdataset(filelist, combine='nested', concat_dim=['time'], parallel=True)\n",
    "    \n",
    "    ds = open_mfdataset_list(run_dir,   \"*.nc\")\n",
    "\n",
    "    cref = (ds.REFL_10CM.values).max(axis=1)\n",
    "\n",
    "    mask_cref = np.where(cref >= cref_thresh, True, False)\n",
    "\n",
    "    mask_p = np.where(ds.P <= 70000., True, False)\n",
    "    \n",
    "    winterp = ds.W.values\n",
    "    \n",
    "    mask_w = np.where(winterp > w_thresh, True, False)\n",
    "\n",
    "    mask_w_p = mask_p & mask_w\n",
    "\n",
    "    mask_w_p_2d = np.any(mask_w_p, axis=1)\n",
    "\n",
    "    f_mask = np.array(np.where(mask_w_p_2d, 1, 0), dtype=np.int8)\n",
    "\n",
    "    # this code looks for a 3x3 connected region of True (1) values.\n",
    "    \n",
    "    connectivity = np.ones((3,) * 2)  # 3x3 matric of ones\n",
    "\n",
    "    wlist = [] \n",
    "    \n",
    "    for n in np.arange(winterp.shape[0]): # loop over number of time steps.\n",
    "        \n",
    "        labeled_array = label(f_mask[n], connectivity)[0]        # returns a 2D array of labels for updrafts)\n",
    "    \n",
    "        num_obj = np.unique(labeled_array)                       # find the number of unique objects (background will be one obj)\n",
    "        \n",
    "        print(n, num_obj.shape[0])\n",
    "\n",
    "        if( num_obj.shape[0] > 1 ):                              # if there is more than the background object, process array.\n",
    "\n",
    "            for l in num_obj[1:]:                                # this is just a list of 1,2,3,4.....23,24,25....\n",
    "                npix = np.sum(labeled_array == l+1)              # this is a size check - number of pixels assocated with a label\n",
    "                if npix >= min_pix:\n",
    "                    jloc, iloc = np.where(labeled_array == l+1)  # extract out the locations of the updrafts \n",
    "                    if len(iloc) > 0:\n",
    "                        data = winterp[n,:,jloc,iloc]  # average profiles for that object.\n",
    "                        wlist.append(data)\n",
    "                        \n",
    "    # wprofile = np.hstack(wlist)\n",
    "    # print(wprofile.shape)\n",
    "    \n",
    "    wprofile = np.asarray(wlist).transpose()\n",
    "\n",
    "    print(\"Directory:  %s  Number of updraft points:  %d\" % (os.path.basename(run_dir), wprofile.shape[1]))    \n",
    "# get z's\n",
    "\n",
    "    ze = ds.PHB.values/9.806\n",
    "    \n",
    "    ds.close()\n",
    "    \n",
    "    ze = ze.mean(axis=(0,2,3))\n",
    "    \n",
    "    zc = 0.5*(ze[1:] + ze[:-1])\n",
    "    \n",
    "    return wprofile, ze\n",
    "    "
   ]
  },
  {
   "cell_type": "code",
   "execution_count": 60,
   "id": "e3ceb360",
   "metadata": {
    "tags": []
   },
   "outputs": [
    {
     "name": "stdout",
     "output_type": "stream",
     "text": [
      "Directory:  squall_q14_s12  Number of updraft profiles:  1928\n",
      "Number of labeled objects:  325\n"
     ]
    }
   ],
   "source": [
    "w_thresh = 5.0\n",
    "cref_thresh = 35.\n",
    "min_pix = 3\n",
    "\n",
    "input_dir  = '/scratch/wicker/cm1r20.3/run'\n",
    "output_dir = './'\n",
    "\n",
    "# wprofile_q11, zh_q14 = get_cm1_profiles(str(os.path.join(input_dir, 'squall_q11_s12')), w_thresh = w_thresh, cref_thresh = cref_thresh, min_pix=min_pix)\n",
    "# wprofile_q12, zh_q14 = get_cm1_profiles(str(os.path.join(input_dir, 'squall_q12_s12')), w_thresh = w_thresh, cref_thresh = cref_thresh, min_pix=min_pix)\n",
    "# wprofile_q13, zh_q14 = get_cm1_profiles(str(os.path.join(input_dir, 'squall_q13_s12')), w_thresh = w_thresh, cref_thresh = cref_thresh, min_pix=min_pix)\n",
    "wprofile_q14, zh_q14 = get_cm1_profiles(str(os.path.join(input_dir, 'squall_q14_s12')), w_thresh = w_thresh, cref_thresh = cref_thresh, min_pix=min_pix)\n",
    "# wprofile_q15, zh_q14 = get_cm1_profiles(str(os.path.join(input_dir, 'squall_q15_s12')), w_thresh = w_thresh, cref_thresh = cref_thresh, min_pix=min_pix)\n",
    "# wprofile_q16, zh_q14 = get_cm1_profiles(str(os.path.join(input_dir, 'squall_q16_s12')), w_thresh = w_thresh, cref_thresh = cref_thresh, min_pix=min_pix)\n",
    "\n",
    "# in_dir  = \"/scratch/larissa.reames/ideal_updrafts\"\n",
    "# out_dir = \"/work/wicker/CAM_analysis_tools\"\n",
    "# shear   = \"shallow_12.5\"\n",
    "\n",
    "# fv3A_dir = str(os.path.join(in_dir, \"FV3_dt20_hord6_q14\", shear))\n",
    "# fv3_wprofile, z = get_fv3_profiles(str(os.path.join(fv3A_dir)),w_thresh = w_thresh, cref_thresh = cref_thresh, min_pix=min_pix)\n",
    "\n"
   ]
  },
  {
   "cell_type": "code",
   "execution_count": 34,
   "id": "96ad06ec-8443-464a-8d50-3ef50f493bdb",
   "metadata": {},
   "outputs": [
    {
     "data": {
      "text/plain": [
       "[<matplotlib.lines.Line2D at 0x152a312a85b0>]"
      ]
     },
     "execution_count": 34,
     "metadata": {},
     "output_type": "execute_result"
    },
    {
     "data": {
      "image/png": "[encoded data removed]",
      "text/plain": [
       "<Figure size 720x720 with 1 Axes>"
      ]
     },
     "metadata": {
      "needs_background": "light"
     },
     "output_type": "display_data"
    }
   ],
   "source": [
    "fig, ax = plt.subplots(1,1, constrained_layout=True,figsize=(10,10))\n",
    "\n",
    "ax.plot(wprofile_q14.mean(axis=1), zh_q14, color='k', linewidth=2.)\n",
    "\n",
    "# ax.plot(wprofile_q11.mean(axis=1), zh_q14, color='y')\n",
    "# ax.plot(wprofile_q12.mean(axis=1), zh_q14, color='orange')\n",
    "# ax.plot(wprofile_q13.mean(axis=1), zh_q14, color='g')\n",
    "# ax.plot(wprofile_q15.mean(axis=1), zh_q14, color='b')\n",
    "# ax.plot(wprofile_q16.mean(axis=1), zh_q14, color='cyan')\n",
    "\n",
    "ax.plot(fv3_wprofile.mean(axis=1), z, color='r', linewidth=3., linestyle='--' )\n"
   ]
  },
  {
   "cell_type": "code",
   "execution_count": 35,
   "id": "0347f0fb-8b3a-4560-a256-ba222b3445cf",
   "metadata": {},
   "outputs": [
    {
     "data": {
      "text/plain": [
       "(60, 1928)"
      ]
     },
     "execution_count": 35,
     "metadata": {},
     "output_type": "execute_result"
    }
   ],
   "source": [
    "wprofile_q14.shape"
   ]
  },
  {
   "cell_type": "code",
   "execution_count": 36,
   "id": "a5b888a1-7332-4fca-9479-8070ec32190b",
   "metadata": {},
   "outputs": [
    {
     "data": {
      "text/plain": [
       "array([-1.0803895e-02, -3.8424946e-02, -7.4705131e-02, -1.1596338e-01,\n",
       "       -1.5977922e-01, -2.0171957e-01, -2.3719263e-01, -2.6152107e-01,\n",
       "       -2.6982072e-01, -2.5680166e-01, -2.1650884e-01, -1.4199761e-01,\n",
       "       -2.4440054e-02,  1.4511864e-01,  3.7483397e-01,  6.7023015e-01,\n",
       "        1.0290592e+00,  1.4440523e+00,  1.9083545e+00,  2.4145184e+00,\n",
       "        2.9537125e+00,  3.5163887e+00,  4.0919819e+00,  4.6689587e+00,\n",
       "        5.2357292e+00,  5.7820168e+00,  6.3000884e+00,  6.7848172e+00,\n",
       "        7.2320070e+00,  7.6359186e+00,  7.9894252e+00,  8.2875500e+00,\n",
       "        8.5268040e+00,  8.6999340e+00,  8.7959108e+00,  8.8062477e+00,\n",
       "        8.7277145e+00,  8.5568094e+00,  8.2887783e+00,  7.9205241e+00,\n",
       "        7.4481936e+00,  6.8617873e+00,  6.1542950e+00,  5.3347478e+00,\n",
       "        4.4237418e+00,  3.4575584e+00,  2.4941614e+00,  1.5905316e+00,\n",
       "        8.1469905e-01,  2.5287649e-01, -4.5788281e-02, -1.1876734e-01,\n",
       "       -7.6980330e-02, -2.7030239e-02, -1.2946480e-02, -1.7873276e-02,\n",
       "       -2.0357233e-02, -2.1593258e-02, -1.4430621e-02, -3.1346537e-03],\n",
       "      dtype=float32)"
      ]
     },
     "execution_count": 36,
     "metadata": {},
     "output_type": "execute_result"
    }
   ],
   "source": [
    "wprofile_q14.mean(axis=1)\n"
   ]
  },
  {
   "cell_type": "code",
   "execution_count": 171,
   "id": "34979776-e035-46df-b773-ef9e3fd71cc5",
   "metadata": {},
   "outputs": [
    {
     "data": {
      "text/plain": [
       "array([[0.90689892, 0.86154198],\n",
       "       [0.95264367, 0.05970853],\n",
       "       [0.26317061, 0.7963547 ],\n",
       "       [0.08793383, 0.94187676],\n",
       "       [0.1990708 , 0.86127705],\n",
       "       [0.35652919, 0.66656528],\n",
       "       [0.78279958, 0.21971614],\n",
       "       [0.93370023, 0.5203817 ],\n",
       "       [0.24092364, 0.07824167],\n",
       "       [0.07877182, 0.97936054]])"
      ]
     },
     "execution_count": 171,
     "metadata": {},
     "output_type": "execute_result"
    }
   ],
   "source": [
    "iloc = [3,7]\n",
    "jloc = [4,9]\n",
    "a[:,iloc,jloc]"
   ]
  },
  {
   "cell_type": "code",
   "execution_count": null,
   "id": "e11d62da-4725-4128-98d0-3aab9d2aa5f8",
   "metadata": {},
   "outputs": [],
   "source": []
  }
 ],
 "metadata": {
  "kernelspec": {
   "display_name": "Python 3",
   "language": "python",
   "name": "python3"
  },
  "language_info": {
   "codemirror_mode": {
    "name": "ipython",
    "version": 3
   },
   "file_extension": ".py",
   "mimetype": "text/x-python",
   "name": "python",
   "nbconvert_exporter": "python",
   "pygments_lexer": "ipython3",
   "version": "3.9.5"
  }
 },
 "nbformat": 4,
 "nbformat_minor": 5
}
